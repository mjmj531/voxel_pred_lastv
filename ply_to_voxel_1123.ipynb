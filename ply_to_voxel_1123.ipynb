{
 "cells": [
  {
   "cell_type": "code",
   "execution_count": 5,
   "metadata": {},
   "outputs": [],
   "source": [
    "import torch\n",
    "import numpy as np\n",
    "device = \"cuda\"\n",
    "voxel_size = 0.03"
   ]
  },
  {
   "cell_type": "code",
   "execution_count": 2,
   "metadata": {},
   "outputs": [
    {
     "name": "stdout",
     "output_type": "stream",
     "text": [
      "占用掩码的形状: (100, 75, 50)\n",
      "占用掩码的和: 20855\n"
     ]
    }
   ],
   "source": [
    "points = np.load(\"ray_points_camera_1111.npy\") #(7500,50,3)\n",
    "# 改\n",
    "occupancy_mask = np.load(\"pred_outcome_for_npy_and_ply/predicted_npy_pw_0.64_origin_lr_0.0008_bs_16_epoch_28/a5af701c-1825-40ce-a9d7-0b7ed08fb43b_52_predicted.npy\")\n",
    "print(\"占用掩码的形状:\", occupancy_mask.shape) #(100,75,50)\n",
    "print(\"占用掩码的和:\", occupancy_mask.sum())\n",
    "# query_points = np.load(\"knn_test/regular_cube_from_ray_to_npy.npy\")\n",
    "# print(\"查询点云数据的形状:\", query_points.shape)"
   ]
  },
  {
   "cell_type": "code",
   "execution_count": null,
   "metadata": {},
   "outputs": [],
   "source": [
    "points.dtype"
   ]
  },
  {
   "cell_type": "code",
   "execution_count": 3,
   "metadata": {},
   "outputs": [],
   "source": [
    "point_cloud = torch.tensor(points.reshape(-1, 3), dtype=torch.float32, device=device)  # (N, 3)"
   ]
  },
  {
   "cell_type": "code",
   "execution_count": null,
   "metadata": {},
   "outputs": [],
   "source": [
    "# occupancy_mask = torch.tensor(occupancy_mask, dtype=torch.float32)\n",
    "# occupancy_mask_flat = occupancy_mask.flatten()\n",
    "# occupancy_mask_flat.sum()"
   ]
  },
  {
   "cell_type": "code",
   "execution_count": 4,
   "metadata": {},
   "outputs": [],
   "source": [
    "# 将数据转为 tensor\n",
    "mask = torch.tensor(occupancy_mask, dtype=torch.float32, device=device)"
   ]
  },
  {
   "cell_type": "code",
   "execution_count": 6,
   "metadata": {},
   "outputs": [],
   "source": [
    "# 计算点云范围\n",
    "min_coords = torch.min(point_cloud, dim=0)[0]\n",
    "max_coords = torch.max(point_cloud, dim=0)[0]\n",
    "# 生成规则 voxel 的形状\n",
    "grid_size = ((max_coords - min_coords) / voxel_size).ceil().int()  # 每个维度的体素数\n",
    "D, H, W = grid_size"
   ]
  },
  {
   "cell_type": "code",
   "execution_count": 7,
   "metadata": {},
   "outputs": [
    {
     "name": "stdout",
     "output_type": "stream",
     "text": [
      "tensor(84, device='cuda:0', dtype=torch.int32) tensor(69, device='cuda:0', dtype=torch.int32) tensor(66, device='cuda:0', dtype=torch.int32)\n"
     ]
    }
   ],
   "source": [
    "print(D, H, W)"
   ]
  },
  {
   "cell_type": "code",
   "execution_count": 9,
   "metadata": {},
   "outputs": [
    {
     "data": {
      "text/plain": [
       "torch.Size([84, 69, 66, 3])"
      ]
     },
     "execution_count": 9,
     "metadata": {},
     "output_type": "execute_result"
    }
   ],
   "source": [
    "# 生成规则网格坐标\n",
    "grid_x = torch.linspace(min_coords[0], max_coords[0], W, device=device)\n",
    "grid_y = torch.linspace(min_coords[1], max_coords[1], H, device=device)\n",
    "grid_z = torch.linspace(min_coords[2], max_coords[2], D, device=device)\n",
    "grid_z, grid_y, grid_x = torch.meshgrid(grid_z, grid_y, grid_x, indexing=\"ij\")\n",
    "grid_coords = torch.stack([grid_x, grid_y, grid_z], dim=-1)  # (D, H, W, 3)\n",
    "grid_coords.shape"
   ]
  },
  {
   "cell_type": "code",
   "execution_count": 12,
   "metadata": {},
   "outputs": [
    {
     "data": {
      "text/plain": [
       "torch.Size([1, 84, 69, 66, 3])"
      ]
     },
     "execution_count": 12,
     "metadata": {},
     "output_type": "execute_result"
    }
   ],
   "source": [
    "# 将点云映射到规则网格的范围\n",
    "normalized_coords = (grid_coords - min_coords) / (max_coords - min_coords) * 2 - 1  # [-1, 1] 归一化\n",
    "normalized_coords = normalized_coords.unsqueeze(0)  # 添加批次维度以供 affine_grid 使用\n",
    "normalized_coords.shape"
   ]
  },
  {
   "cell_type": "code",
   "execution_count": 13,
   "metadata": {},
   "outputs": [
    {
     "data": {
      "text/plain": [
       "torch.Size([1, 1, 100, 75, 50])"
      ]
     },
     "execution_count": 13,
     "metadata": {},
     "output_type": "execute_result"
    }
   ],
   "source": [
    "# 使用 affine_grid 进行插值\n",
    "mask = mask.unsqueeze(0).unsqueeze(0)  # 添加批次和通道维度\n",
    "mask.shape"
   ]
  },
  {
   "cell_type": "code",
   "execution_count": null,
   "metadata": {},
   "outputs": [],
   "source": [
    "\n",
    "voxel_grid = torch.nn.functional.grid_sample(mask, normalized_coords, mode=\"bilinear\", padding_mode=\"zeros\", align_corners=True)"
   ]
  },
  {
   "cell_type": "code",
   "execution_count": null,
   "metadata": {},
   "outputs": [],
   "source": [
    "import torch\n",
    "import numpy as np\n",
    "\n",
    "def point_cloud_to_voxel(point_cloud, mask, voxel_size=0.04, device=\"cuda\"):\n",
    "    \"\"\"\n",
    "    将不规则的点云转换为规则 voxel 网格。\n",
    "    \n",
    "    参数:\n",
    "        point_cloud: (N, 3) 的点云数据 (x, y, z)。\n",
    "        mask: (width, height, depth) 的掩码，表示点云中点的占据状态。\n",
    "        voxel_size: float，目标 voxel 的间距大小。\n",
    "        device: 使用的设备，默认 'cuda'。\n",
    "    \n",
    "    返回:\n",
    "        voxel_grid: (D, H, W) 的规则 voxel 数据。\n",
    "    \"\"\"\n",
    "    # 将数据转为 tensor\n",
    "    point_cloud = torch.tensor(point_cloud, dtype=torch.float32, device=device)\n",
    "    mask = torch.tensor(mask, dtype=torch.float32, device=device)\n",
    "\n",
    "    # 计算点云范围\n",
    "    min_coords = torch.min(point_cloud, dim=0)[0]\n",
    "    max_coords = torch.max(point_cloud, dim=0)[0]\n",
    "\n",
    "    # 生成规则 voxel 的形状\n",
    "    grid_size = ((max_coords - min_coords) / voxel_size).ceil().int()  # 每个维度的体素数\n",
    "    D, H, W = grid_size\n",
    "\n",
    "    # 生成规则网格坐标\n",
    "    grid_x = torch.linspace(min_coords[0], max_coords[0], W, device=device)\n",
    "    grid_y = torch.linspace(min_coords[1], max_coords[1], H, device=device)\n",
    "    grid_z = torch.linspace(min_coords[2], max_coords[2], D, device=device)\n",
    "    grid_z, grid_y, grid_x = torch.meshgrid(grid_z, grid_y, grid_x, indexing=\"ij\")\n",
    "    grid_coords = torch.stack([grid_x, grid_y, grid_z], dim=-1)  # (D, H, W, 3)\n",
    "\n",
    "    # 将点云映射到规则网格的范围\n",
    "    normalized_coords = (grid_coords - min_coords) / (max_coords - min_coords) * 2 - 1  # [-1, 1] 归一化\n",
    "    normalized_coords = normalized_coords.unsqueeze(0)  # 添加批次维度以供 affine_grid 使用\n",
    "\n",
    "    # 使用 affine_grid 进行插值\n",
    "    mask = mask.unsqueeze(0).unsqueeze(0)  # 添加批次和通道维度\n",
    "    voxel_grid = torch.nn.functional.grid_sample(mask, normalized_coords, mode=\"bilinear\", padding_mode=\"zeros\", align_corners=True)\n",
    "\n",
    "    return voxel_grid[0, 0]  # 返回去掉批次和通道维度的 voxel 数据\n"
   ]
  },
  {
   "cell_type": "code",
   "execution_count": null,
   "metadata": {},
   "outputs": [],
   "source": [
    "# 计算点云的最小值和最大值\n",
    "min_point = flattened_points.min(dim=0).values\n",
    "max_point = flattened_points.max(dim=0).values\n",
    "min_point"
   ]
  },
  {
   "cell_type": "code",
   "execution_count": null,
   "metadata": {},
   "outputs": [],
   "source": [
    "# 确定体素的间距和体素网格的大小\n",
    "voxel_spacing = 0.03\n",
    "voxel_resolution = ((max_point - min_point) / voxel_spacing).ceil().long()\n",
    "voxel_resolution"
   ]
  },
  {
   "cell_type": "code",
   "execution_count": null,
   "metadata": {},
   "outputs": [],
   "source": [
    "# 计算点云的标准化坐标\n",
    "normalized_points = (flattened_points - min_point) / (max_point - min_point)\n",
    "normalized_points.shape #torch.Size([375000, 3])"
   ]
  },
  {
   "cell_type": "code",
   "execution_count": null,
   "metadata": {},
   "outputs": [],
   "source": [
    "normalized_points * (voxel_resolution - 1)"
   ]
  },
  {
   "cell_type": "code",
   "execution_count": null,
   "metadata": {},
   "outputs": [],
   "source": [
    "# 将标准化后的坐标映射到体素网格\n",
    "voxel_indices = (normalized_points * (voxel_resolution - 1)).int()\n",
    "voxel_indices.shape"
   ]
  },
  {
   "cell_type": "code",
   "execution_count": 21,
   "metadata": {},
   "outputs": [],
   "source": [
    "# 确保索引在有效范围内\n",
    "voxel_indices = torch.clamp(voxel_indices, min=torch.tensor(0), max=voxel_resolution - 1)"
   ]
  },
  {
   "cell_type": "code",
   "execution_count": 31,
   "metadata": {},
   "outputs": [],
   "source": [
    "# 初始化一个新的规则网格\n",
    "new_voxel_grid = torch.zeros(voxel_resolution[0], voxel_resolution[1], voxel_resolution[2], dtype=torch.float32)\n",
    "\n",
    "# 计算每个点的占据信息\n",
    "# 用高级索引将每个点的占据信息映射到体素网格\n",
    "voxel_indices_flattened = voxel_indices[:, 0] * (voxel_resolution[1] * voxel_resolution[2]) + \\\n",
    "                          voxel_indices[:, 1] * voxel_resolution[2] + \\\n",
    "                          voxel_indices[:, 2]"
   ]
  },
  {
   "cell_type": "code",
   "execution_count": null,
   "metadata": {},
   "outputs": [],
   "source": [
    "voxel_indices_flattened.shape"
   ]
  },
  {
   "cell_type": "code",
   "execution_count": null,
   "metadata": {},
   "outputs": [],
   "source": [
    "# 创建规则网格\n",
    "new_voxel_grid = torch.zeros(voxel_resolution.prod(), dtype=torch.float32)  # 一维规则网格\n",
    "\n",
    "# 将占据信息映射到规则网格 (处理索引冲突)\n",
    "new_voxel_grid.scatter_(0, voxel_indices_flattened, occupancy_mask_flat, reduce='add')"
   ]
  },
  {
   "cell_type": "code",
   "execution_count": null,
   "metadata": {},
   "outputs": [],
   "source": [
    "new_voxel_grid.shape"
   ]
  },
  {
   "cell_type": "code",
   "execution_count": null,
   "metadata": {},
   "outputs": [],
   "source": [
    "# 恢复为三维规则网格\n",
    "new_voxel_grid = new_voxel_grid.view(*voxel_resolution)\n",
    "new_voxel_grid.sum()"
   ]
  },
  {
   "cell_type": "code",
   "execution_count": null,
   "metadata": {},
   "outputs": [],
   "source": [
    "new_voxel_grid.max()"
   ]
  },
  {
   "cell_type": "code",
   "execution_count": null,
   "metadata": {},
   "outputs": [],
   "source": [
    "# 获取映射后的点云\n",
    "mapped_points = torch.nonzero(new_voxel_grid) * 0.03"
   ]
  },
  {
   "cell_type": "code",
   "execution_count": null,
   "metadata": {},
   "outputs": [],
   "source": [
    "new_voxel_grid_flat = new_voxel_grid.flatten()\n",
    "new_voxel_grid_flat.shape"
   ]
  },
  {
   "cell_type": "code",
   "execution_count": null,
   "metadata": {},
   "outputs": [],
   "source": [
    "# 将占据信息映射到规则网格\n",
    "new_voxel_grid_flat = new_voxel_grid.flatten()\n",
    "new_voxel_grid_flat[voxel_indices_flattened] = occupancy_mask.view(-1)\n",
    "\n",
    "# 获取映射后的体素网格\n",
    "new_voxel_grid = new_voxel_grid_flat.view(voxel_resolution)"
   ]
  },
  {
   "cell_type": "code",
   "execution_count": null,
   "metadata": {},
   "outputs": [],
   "source": [
    "# 将点云和掩码转换为 PyTorch 张量\n",
    "flattened_points = torch.tensor(points.reshape(-1, 3), dtype=torch.float32)  # (N, 3)\n",
    "# query_points = torch.tensor(query_points, dtype=torch.float32, device='cuda')  # (M, 3)\n",
    "flattened_mask = torch.tensor(occupancy_mask.ravel(), dtype=torch.float32, device='cuda')  # (N,)"
   ]
  },
  {
   "cell_type": "markdown",
   "metadata": {},
   "source": [
    "## 1125\n"
   ]
  },
  {
   "cell_type": "code",
   "execution_count": 4,
   "metadata": {},
   "outputs": [],
   "source": [
    "import numpy as np\n",
    "import torch\n",
    "\n",
    "def generate_regular_cube_points_from_ray(ray_points_camera, spacing=0.03):\n",
    "    \"\"\"\n",
    "    基于 ray_points_camera 生成一个规则的三维网格，确保网格覆盖 ray_points_camera 的范围。\n",
    "    \n",
    "    :param ray_points_camera: (N, max_steps, 3) 形状的张量，表示光线的坐标\n",
    "    :param spacing: 每个点之间的间距\n",
    "    :return: 点云数据，形状为 (M, 3)，其中 M 是网格点的数量\n",
    "    \"\"\"\n",
    "    # 获取 ray_points_camera 的最小值和最大值，确定立方体的尺寸范围\n",
    "    # Find min/max along each axis (axis 0 is the rays, axis 1 is the points)\n",
    "    min_coords_x = ray_points_camera[:, :, 0].min()\n",
    "    min_coords_y = ray_points_camera[:, :, 1].min()\n",
    "    min_coords_z = ray_points_camera[:, :, 2].min()\n",
    "\n",
    "    max_coords_x = ray_points_camera[:, :, 0].max()\n",
    "    max_coords_y = ray_points_camera[:, :, 1].max()\n",
    "    max_coords_z = ray_points_camera[:, :, 2].max()\n",
    "\n",
    "    # Create min and max coordinates\n",
    "    min_coords = torch.tensor([min_coords_x, min_coords_y, min_coords_z])\n",
    "    max_coords = torch.tensor([max_coords_x, max_coords_y, max_coords_z])\n",
    "\n",
    "    # 计算立方体的尺寸（宽度、高度、深度）\n",
    "    dimensions = max_coords - min_coords\n",
    "\n",
    "    # 计算每个维度的步数\n",
    "    x_steps = int(np.ceil(dimensions[0] / spacing))\n",
    "    y_steps = int(np.ceil(dimensions[1] / spacing))\n",
    "    z_steps = int(np.ceil(dimensions[2] / spacing))\n",
    "    print(f\"x_steps: {x_steps}, y_steps: {y_steps}, z_steps: {z_steps}\")\n",
    "\n",
    "    # 生成规则的三维网格\n",
    "    x = np.linspace(min_coords[0], max_coords[0], x_steps)\n",
    "    y = np.linspace(min_coords[1], max_coords[1], y_steps)\n",
    "    z = np.linspace(min_coords[2], max_coords[2], z_steps)\n",
    "    \n",
    "    # 创建网格点\n",
    "    x_grid, y_grid, z_grid = np.meshgrid(x, y, z)\n",
    "    \n",
    "    # 将网格转换为点云坐标\n",
    "    points = np.vstack([x_grid.ravel(), y_grid.ravel(), z_grid.ravel()]).T\n",
    "    print(f\"points shape: {points.shape}\")\n",
    "    return points"
   ]
  },
  {
   "cell_type": "code",
   "execution_count": 8,
   "metadata": {},
   "outputs": [
    {
     "name": "stdout",
     "output_type": "stream",
     "text": [
      "(7500, 50, 3)\n"
     ]
    }
   ],
   "source": [
    "ray_points_camera = np.load(\"ray_points_camera_1111.npy\")\n",
    "print(ray_points_camera.shape)\n",
    "spacing = 0.03"
   ]
  },
  {
   "cell_type": "code",
   "execution_count": 7,
   "metadata": {},
   "outputs": [
    {
     "data": {
      "text/plain": [
       "tensor([2.4946, 2.0575, 1.9599])"
      ]
     },
     "execution_count": 7,
     "metadata": {},
     "output_type": "execute_result"
    }
   ],
   "source": [
    "# 获取 ray_points_camera 的最小值和最大值，确定立方体的尺寸范围\n",
    "# Find min/max along each axis (axis 0 is the rays, axis 1 is the points)\n",
    "min_coords_x = ray_points_camera[:, :, 0].min()\n",
    "min_coords_y = ray_points_camera[:, :, 1].min()\n",
    "min_coords_z = ray_points_camera[:, :, 2].min()\n",
    "max_coords_x = ray_points_camera[:, :, 0].max()\n",
    "max_coords_y = ray_points_camera[:, :, 1].max()\n",
    "max_coords_z = ray_points_camera[:, :, 2].max()\n",
    "# Create min and max coordinates\n",
    "min_coords = torch.tensor([min_coords_x, min_coords_y, min_coords_z])\n",
    "max_coords = torch.tensor([max_coords_x, max_coords_y, max_coords_z])\n",
    "# 计算立方体的尺寸（宽度、高度、深度）\n",
    "dimensions = max_coords - min_coords\n",
    "dimensions"
   ]
  },
  {
   "cell_type": "code",
   "execution_count": 9,
   "metadata": {},
   "outputs": [
    {
     "name": "stdout",
     "output_type": "stream",
     "text": [
      "x_steps: 84, y_steps: 69, z_steps: 66\n",
      "points shape: (382536, 3)\n"
     ]
    }
   ],
   "source": [
    "# 计算每个维度的步数\n",
    "x_steps = int(np.ceil(dimensions[0] / spacing))\n",
    "y_steps = int(np.ceil(dimensions[1] / spacing))\n",
    "z_steps = int(np.ceil(dimensions[2] / spacing))\n",
    "print(f\"x_steps: {x_steps}, y_steps: {y_steps}, z_steps: {z_steps}\")\n",
    "# 生成规则的三维网格\n",
    "x = np.linspace(min_coords[0], max_coords[0], x_steps)\n",
    "y = np.linspace(min_coords[1], max_coords[1], y_steps)\n",
    "z = np.linspace(min_coords[2], max_coords[2], z_steps)\n",
    "    \n",
    "# 创建网格点\n",
    "x_grid, y_grid, z_grid = np.meshgrid(x, y, z)\n",
    "    \n",
    "# 将网格转换为点云坐标\n",
    "points = np.vstack([x_grid.ravel(), y_grid.ravel(), z_grid.ravel()]).T\n",
    "print(f\"points shape: {points.shape}\")"
   ]
  },
  {
   "cell_type": "code",
   "execution_count": 22,
   "metadata": {},
   "outputs": [
    {
     "data": {
      "text/plain": [
       "array([-1.95993197, -1.92977917, -1.89962637, -1.86947357, -1.83932077,\n",
       "       -1.80916797, -1.77901517, -1.74886237, -1.71870957, -1.68855677,\n",
       "       -1.65840397, -1.62825117, -1.59809838, -1.56794558, -1.53779278,\n",
       "       -1.50763998, -1.47748718, -1.44733438, -1.41718158, -1.38702878,\n",
       "       -1.35687598, -1.32672318, -1.29657038, -1.26641758, -1.23626478,\n",
       "       -1.20611198, -1.17595918, -1.14580638, -1.11565358, -1.08550078,\n",
       "       -1.05534798, -1.02519518, -0.99504238, -0.96488959, -0.93473679,\n",
       "       -0.90458399, -0.87443119, -0.84427839, -0.81412559, -0.78397279,\n",
       "       -0.75381999, -0.72366719, -0.69351439, -0.66336159, -0.63320879,\n",
       "       -0.60305599, -0.57290319, -0.54275039, -0.51259759, -0.48244479,\n",
       "       -0.45229199, -0.42213919, -0.39198639, -0.36183359, -0.33168079,\n",
       "       -0.301528  , -0.2713752 , -0.2412224 , -0.2110696 , -0.1809168 ,\n",
       "       -0.150764  , -0.1206112 , -0.0904584 , -0.0603056 , -0.0301528 ,\n",
       "       -0.        ])"
      ]
     },
     "execution_count": 22,
     "metadata": {},
     "output_type": "execute_result"
    }
   ],
   "source": [
    "z"
   ]
  },
  {
   "cell_type": "code",
   "execution_count": 23,
   "metadata": {},
   "outputs": [
    {
     "data": {
      "text/plain": [
       "-0.0"
      ]
     },
     "execution_count": 23,
     "metadata": {},
     "output_type": "execute_result"
    }
   ],
   "source": [
    "# 找到深度最小的点所在的平面\n",
    "min_z_index = -1  # 深度最小对应的索引\n",
    "z_selected = z[-1]  # 深度最小的 z 平面\n",
    "z_selected"
   ]
  },
  {
   "cell_type": "code",
   "execution_count": 24,
   "metadata": {},
   "outputs": [
    {
     "data": {
      "text/plain": [
       "34"
      ]
     },
     "execution_count": 24,
     "metadata": {},
     "output_type": "execute_result"
    }
   ],
   "source": [
    "# 找到 x 和 y 的中心索引\n",
    "center_x_index = x_steps // 2\n",
    "center_y_index = y_steps // 2\n",
    "center_y_index"
   ]
  },
  {
   "cell_type": "code",
   "execution_count": 25,
   "metadata": {},
   "outputs": [
    {
     "name": "stdout",
     "output_type": "stream",
     "text": [
      "37 47 29 39\n"
     ]
    }
   ],
   "source": [
    "# 计算 10×10 的范围\n",
    "half_size = 10 // 2\n",
    "x_start = max(center_x_index - half_size, 0)\n",
    "x_end = min(center_x_index + half_size, x_steps)\n",
    "y_start = max(center_y_index - half_size, 0)\n",
    "y_end = min(center_y_index + half_size, y_steps)\n",
    "print(x_start, x_end, y_start, y_end)"
   ]
  },
  {
   "cell_type": "code",
   "execution_count": 30,
   "metadata": {},
   "outputs": [
    {
     "data": {
      "text/plain": [
       "array([-0.2713752, -0.2412224, -0.2110696, -0.1809168, -0.150764 ,\n",
       "       -0.1206112, -0.0904584, -0.0603056, -0.0301528, -0.       ])"
      ]
     },
     "execution_count": 30,
     "metadata": {},
     "output_type": "execute_result"
    }
   ],
   "source": [
    "# 提取 10×10×10 点云\n",
    "roi_x = x[x_start:x_end]\n",
    "roi_y = y[y_start:y_end]\n",
    "roi_z = z[-10:]  # 深度范围的 10 层\n",
    "roi_z"
   ]
  },
  {
   "cell_type": "code",
   "execution_count": 31,
   "metadata": {},
   "outputs": [
    {
     "name": "stdout",
     "output_type": "stream",
     "text": [
      "Extracted ROI points shape: (1000, 3)\n"
     ]
    }
   ],
   "source": [
    "# 创建 10×10×10 的网格\n",
    "roi_x_grid, roi_y_grid, roi_z_grid = np.meshgrid(roi_x, roi_y, roi_z)\n",
    "roi_points = np.vstack([roi_x_grid.ravel(), roi_y_grid.ravel(), roi_z_grid.ravel()]).T\n",
    "print(f\"Extracted ROI points shape: {roi_points.shape}\")"
   ]
  },
  {
   "cell_type": "markdown",
   "metadata": {},
   "source": [
    "### 经验证，center_x=center_y=0"
   ]
  },
  {
   "cell_type": "code",
   "execution_count": null,
   "metadata": {},
   "outputs": [],
   "source": [
    "\n",
    "\n",
    "\n",
    "\n",
    "def extract_roi(points, spacing, roi_size=(10, 10, 10)):\n",
    "    \"\"\"\n",
    "    从规则立方体点云中提取深度最小且靠近中心的 ROI 点云。\n",
    "    \n",
    "    :param points: 规则点云数据，形状为 (M, 3)。\n",
    "    :param spacing: 每个点的间距，用于计算 ROI 的范围。\n",
    "    :param roi_size: 提取的点云尺寸，默认 10x10x10。\n",
    "    :return: ROI 点云数据，形状为 (N, 3)。\n",
    "    \"\"\"\n",
    "    # 获取深度最小的 z 值\n",
    "    min_z = points[:, 2].min()\n",
    "    \n",
    "    # 提取深度最小层的点\n",
    "    min_z_points = points[points[:, 2] == min_z]\n",
    "    \n",
    "    # 找到宽度 (x) 和高度 (y) 的中心\n",
    "    center_x = (min_z_points[:, 0].max() + min_z_points[:, 0].min()) / 2\n",
    "    center_y = (min_z_points[:, 1].max() + min_z_points[:, 1].min()) / 2\n",
    "    \n",
    "    # 计算中心区域的范围\n",
    "    half_size_x = roi_size[0] * spacing / 2\n",
    "    half_size_y = roi_size[1] * spacing / 2\n",
    "    \n",
    "    roi_x_min = center_x - half_size_x\n",
    "    roi_x_max = center_x + half_size_x\n",
    "    roi_y_min = center_y - half_size_y\n",
    "    roi_y_max = center_y + half_size_y\n",
    "    \n",
    "    # 提取满足范围的点\n",
    "    roi_points = min_z_points[\n",
    "        (min_z_points[:, 0] >= roi_x_min) & (min_z_points[:, 0] <= roi_x_max) &\n",
    "        (min_z_points[:, 1] >= roi_y_min) & (min_z_points[:, 1] <= roi_y_max)\n",
    "    ]\n",
    "    \n",
    "    # 如果点数量超出 10x10x10，取最近的点\n",
    "    if roi_points.shape[0] > roi_size[0] * roi_size[1] * roi_size[2]:\n",
    "        roi_points = roi_points[:roi_size[0] * roi_size[1] * roi_size[2]]\n",
    "    \n",
    "    print(f\"Extracted ROI points: {roi_points.shape}\")\n",
    "    return roi_points\n",
    "\n",
    "def save_roi_from_regular_cube(ray_points_camera, save_path, spacing=0.03, roi_size=(10, 10, 10)):\n",
    "    \"\"\"\n",
    "    提取规则点云的 ROI 并保存为 .npy 文件。\n",
    "    \n",
    "    :param ray_points_camera: (N, max_steps, 3) 形状的张量，表示光线的坐标。\n",
    "    :param save_path: .npy 文件保存路径。\n",
    "    :param spacing: 每个点之间的间距。\n",
    "    :param roi_size: 提取的 ROI 尺寸，默认 10x10x10。\n",
    "    \"\"\"\n",
    "    # 生成规则立方体点云\n",
    "    points = generate_regular_cube_points_from_ray(ray_points_camera, spacing)\n",
    "    \n",
    "    # 提取 ROI 点云\n",
    "    roi_points = extract_roi(points, spacing, roi_size)\n",
    "    \n",
    "    # 保存为 .npy 文件\n",
    "    np.save(save_path, roi_points)\n",
    "    print(f\"ROI point cloud has been saved to {save_path}\")\n",
    "\n"
   ]
  },
  {
   "cell_type": "code",
   "execution_count": 5,
   "metadata": {},
   "outputs": [
    {
     "name": "stdout",
     "output_type": "stream",
     "text": [
      "x_steps: 84, y_steps: 69, z_steps: 66\n",
      "points shape: (382536, 3)\n"
     ]
    }
   ],
   "source": [
    "points = generate_regular_cube_points_from_ray(ray_points_camera, spacing=0.03)"
   ]
  }
 ],
 "metadata": {
  "kernelspec": {
   "display_name": "pytorch",
   "language": "python",
   "name": "python3"
  },
  "language_info": {
   "codemirror_mode": {
    "name": "ipython",
    "version": 3
   },
   "file_extension": ".py",
   "mimetype": "text/x-python",
   "name": "python",
   "nbconvert_exporter": "python",
   "pygments_lexer": "ipython3",
   "version": "3.10.15"
  }
 },
 "nbformat": 4,
 "nbformat_minor": 2
}
